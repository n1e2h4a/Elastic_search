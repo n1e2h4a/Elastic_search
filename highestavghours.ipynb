{
 "cells": [
  {
   "cell_type": "code",
   "execution_count": 1,
   "metadata": {
    "collapsed": false
   },
   "outputs": [
    {
     "name": "stdout",
     "output_type": "stream",
     "text": [
      "b'{\\n  \"name\" : \"elasticsearch\",\\n  \"cluster_name\" : \"elasticsearch\",\\n  \"cluster_uuid\" : \"5T_1AWCFSeOm0M2eKNyW2g\",\\n  \"version\" : {\\n    \"number\" : \"7.7.0\",\\n    \"build_flavor\" : \"default\",\\n    \"build_type\" : \"deb\",\\n    \"build_hash\" : \"81a1e9eda8e6183f5237786246f6dced26a10eaf\",\\n    \"build_date\" : \"2020-05-12T02:01:37.602180Z\",\\n    \"build_snapshot\" : false,\\n    \"lucene_version\" : \"8.5.1\",\\n    \"minimum_wire_compatibility_version\" : \"6.8.0\",\\n    \"minimum_index_compatibility_version\" : \"6.0.0-beta1\"\\n  },\\n  \"tagline\" : \"You Know, for Search\"\\n}\\n'\n"
     ]
    }
   ],
   "source": [
    "import requests\n",
    "res = requests.get('http://localhost:9200')\n",
    "print(res.content)"
   ]
  },
  {
   "cell_type": "code",
   "execution_count": 2,
   "metadata": {
    "collapsed": false
   },
   "outputs": [],
   "source": [
    "from elasticsearch import Elasticsearch\n",
    "es = Elasticsearch([{'host': 'localhost', 'port':9200}])"
   ]
  },
  {
   "cell_type": "code",
   "execution_count": 3,
   "metadata": {
    "collapsed": false
   },
   "outputs": [
    {
     "name": "stdout",
     "output_type": "stream",
     "text": [
      "{'aggregations': {'avg_hours': {'value': 1571900894818.182, 'value_as_string': '2019-10-24T07:08:14.818Z'}}, '_shards': {'skipped': 0, 'total': 1, 'successful': 1, 'failed': 0}, 'timed_out': False, 'hits': {'total': {'relation': 'eq', 'value': 88}, 'hits': [], 'max_score': None}, 'took': 4}\n"
     ]
    }
   ],
   "source": [
    "res = es.search(index=\"cpu_logs\",\n",
    "                body={\"from\":0, \"size\": 0,\"query\": {\"match_all\": {}}, \"aggs\": {\"avg_hours\":{\"avg\":{\"field\": \"working_hours\"}}}})\n",
    "print(res)"
   ]
  },
  {
   "cell_type": "code",
   "execution_count": 4,
   "metadata": {
    "collapsed": false
   },
   "outputs": [
    {
     "data": {
      "text/plain": [
       "{'_shards': {'failed': 0, 'skipped': 0, 'successful': 1, 'total': 1},\n",
       " 'hits': {'hits': [{'_id': 'YsnRXHIB8lCf_sTWZ-QI',\n",
       "    '_index': 'cpu_logs',\n",
       "    '_score': 1.0,\n",
       "    '_source': {'user_name': 'magadum.iranna@gmail.com'},\n",
       "    '_type': 'data'},\n",
       "   {'_id': 'Y8nRXHIB8lCf_sTWZ-QI',\n",
       "    '_index': 'cpu_logs',\n",
       "    '_score': 1.0,\n",
       "    '_source': {'user_name': 'yathink3@gmail.com'},\n",
       "    '_type': 'data'},\n",
       "   {'_id': 'ZMnRXHIB8lCf_sTWZ-QI',\n",
       "    '_index': 'cpu_logs',\n",
       "    '_score': 1.0,\n",
       "    '_source': {'user_name': 'shelkeva@gmail.com'},\n",
       "    '_type': 'data'},\n",
       "   {'_id': 'ZcnRXHIB8lCf_sTWZ-QI',\n",
       "    '_index': 'cpu_logs',\n",
       "    '_score': 1.0,\n",
       "    '_source': {'user_name': 'puruissimple@gmail.com'},\n",
       "    '_type': 'data'},\n",
       "   {'_id': 'ZsnRXHIB8lCf_sTWZ-QI',\n",
       "    '_index': 'cpu_logs',\n",
       "    '_score': 1.0,\n",
       "    '_source': {'user_name': 'sangita.awaghad1987@gmail.com'},\n",
       "    '_type': 'data'},\n",
       "   {'_id': 'Z8nRXHIB8lCf_sTWZ-QI',\n",
       "    '_index': 'cpu_logs',\n",
       "    '_score': 1.0,\n",
       "    '_source': {'user_name': 'vaishusawant143@gmail.com'},\n",
       "    '_type': 'data'},\n",
       "   {'_id': 'aMnRXHIB8lCf_sTWZ-QI',\n",
       "    '_index': 'cpu_logs',\n",
       "    '_score': 1.0,\n",
       "    '_source': {'user_name': 'you@example.com'},\n",
       "    '_type': 'data'},\n",
       "   {'_id': 'acnRXHIB8lCf_sTWZ-QI',\n",
       "    '_index': 'cpu_logs',\n",
       "    '_score': 1.0,\n",
       "    '_source': {'user_name': 'samadhanmahajan73@gmail.com'},\n",
       "    '_type': 'data'},\n",
       "   {'_id': 'a8nRXHIB8lCf_sTWZ-QI',\n",
       "    '_index': 'cpu_logs',\n",
       "    '_score': 1.0,\n",
       "    '_source': {'user_name': 'ashutoshrit64@gmail.com'},\n",
       "    '_type': 'data'},\n",
       "   {'_id': 'bMnRXHIB8lCf_sTWZ-QI',\n",
       "    '_index': 'cpu_logs',\n",
       "    '_score': 1.0,\n",
       "    '_source': {'user_name': 'akshaybavalekar100@gmail.com'},\n",
       "    '_type': 'data'}],\n",
       "  'max_score': 1.0,\n",
       "  'total': {'relation': 'eq', 'value': 57}},\n",
       " 'timed_out': False,\n",
       " 'took': 8}"
      ]
     },
     "execution_count": 4,
     "metadata": {},
     "output_type": "execute_result"
    }
   ],
   "source": [
    "es.search(index=\"cpu_logs\", body={\"_source\": [\"user_name\"], \"query\": {\"range\": {\"working_hours\": {\"gt\":\"2019-10-24T07:08:14.818Z\"}}}})\n"
   ]
  },
  {
   "cell_type": "code",
   "execution_count": null,
   "metadata": {
    "collapsed": true
   },
   "outputs": [],
   "source": []
  }
 ],
 "metadata": {
  "anaconda-cloud": {},
  "kernelspec": {
   "display_name": "Python [conda root]",
   "language": "python",
   "name": "conda-root-py"
  },
  "language_info": {
   "codemirror_mode": {
    "name": "ipython",
    "version": 3
   },
   "file_extension": ".py",
   "mimetype": "text/x-python",
   "name": "python",
   "nbconvert_exporter": "python",
   "pygments_lexer": "ipython3",
   "version": "3.5.2"
  }
 },
 "nbformat": 4,
 "nbformat_minor": 1
}
