{
 "cells": [
  {
   "cell_type": "code",
   "execution_count": 5,
   "metadata": {
    "collapsed": false
   },
   "outputs": [
    {
     "name": "stdout",
     "output_type": "stream",
     "text": [
      "b'{\\n  \"name\" : \"elasticsearch\",\\n  \"cluster_name\" : \"elasticsearch\",\\n  \"cluster_uuid\" : \"5T_1AWCFSeOm0M2eKNyW2g\",\\n  \"version\" : {\\n    \"number\" : \"7.7.0\",\\n    \"build_flavor\" : \"default\",\\n    \"build_type\" : \"deb\",\\n    \"build_hash\" : \"81a1e9eda8e6183f5237786246f6dced26a10eaf\",\\n    \"build_date\" : \"2020-05-12T02:01:37.602180Z\",\\n    \"build_snapshot\" : false,\\n    \"lucene_version\" : \"8.5.1\",\\n    \"minimum_wire_compatibility_version\" : \"6.8.0\",\\n    \"minimum_index_compatibility_version\" : \"6.0.0-beta1\"\\n  },\\n  \"tagline\" : \"You Know, for Search\"\\n}\\n'\n"
     ]
    }
   ],
   "source": [
    "import requests\n",
    "res = requests.get('http://localhost:9200')\n",
    "print(res.content)"
   ]
  },
  {
   "cell_type": "code",
   "execution_count": 6,
   "metadata": {
    "collapsed": true
   },
   "outputs": [],
   "source": [
    "from elasticsearch import Elasticsearch\n",
    "es = Elasticsearch([{'host': 'localhost', 'port':9200}])"
   ]
  },
  {
   "cell_type": "code",
   "execution_count": 8,
   "metadata": {
    "collapsed": false
   },
   "outputs": [
    {
     "data": {
      "text/plain": [
       "{'_shards': {'failed': 0, 'skipped': 0, 'successful': 1, 'total': 1},\n",
       " 'hits': {'hits': [{'_id': 'gMnRXHIB8lCf_sTWZ-QI',\n",
       "    '_index': 'cpu_logs',\n",
       "    '_score': 1.0,\n",
       "    '_source': {'user_name': 'prathameshsalap@gmail.com'},\n",
       "    '_type': 'data'},\n",
       "   {'_id': 'gcnRXHIB8lCf_sTWZ-QI',\n",
       "    '_index': 'cpu_logs',\n",
       "    '_score': 1.0,\n",
       "    '_source': {'user_name': 'â€œshivnajalisangale5456@gmail.com'},\n",
       "    '_type': 'data'},\n",
       "   {'_id': 'gsnRXHIB8lCf_sTWZ-QI',\n",
       "    '_index': 'cpu_logs',\n",
       "    '_score': 1.0,\n",
       "    '_source': {'user_name': 'bhiogadepriyanka93@gmail.com'},\n",
       "    '_type': 'data'},\n",
       "   {'_id': 'hcnRXHIB8lCf_sTWZ-QI',\n",
       "    '_index': 'cpu_logs',\n",
       "    '_score': 1.0,\n",
       "    '_source': {'user_name': 'rr582619@gmail.con'},\n",
       "    '_type': 'data'},\n",
       "   {'_id': 'hsnRXHIB8lCf_sTWZ-QI',\n",
       "    '_index': 'cpu_logs',\n",
       "    '_score': 1.0,\n",
       "    '_source': {'user_name': 'addyp1911@gmail.com'},\n",
       "    '_type': 'data'},\n",
       "   {'_id': 'h8nRXHIB8lCf_sTWZ-QI',\n",
       "    '_index': 'cpu_logs',\n",
       "    '_score': 1.0,\n",
       "    '_source': {'user_name': 'rohitsarate1027@gmail.com'},\n",
       "    '_type': 'data'},\n",
       "   {'_id': 'iMnRXHIB8lCf_sTWZ-QI',\n",
       "    '_index': 'cpu_logs',\n",
       "    '_score': 1.0,\n",
       "    '_source': {'user_name': 'dipakalagate1991@gmail.com'},\n",
       "    '_type': 'data'},\n",
       "   {'_id': 'icnRXHIB8lCf_sTWZ-QI',\n",
       "    '_index': 'cpu_logs',\n",
       "    '_score': 1.0,\n",
       "    '_source': {'user_name': 'shibadattanayak@gmail.com'},\n",
       "    '_type': 'data'},\n",
       "   {'_id': 'isnRXHIB8lCf_sTWZ-QI',\n",
       "    '_index': 'cpu_logs',\n",
       "    '_score': 1.0,\n",
       "    '_source': {'user_name': 'pradeepbamin5@gmail.com'},\n",
       "    '_type': 'data'},\n",
       "   {'_id': 'i8nRXHIB8lCf_sTWZ-QI',\n",
       "    '_index': 'cpu_logs',\n",
       "    '_score': 1.0,\n",
       "    '_source': {'user_name': 'durganath123@outlook.com'},\n",
       "    '_type': 'data'}],\n",
       "  'max_score': 1.0,\n",
       "  'total': {'relation': 'eq', 'value': 54}},\n",
       " 'timed_out': False,\n",
       " 'took': 16}"
      ]
     },
     "execution_count": 8,
     "metadata": {},
     "output_type": "execute_result"
    }
   ],
   "source": [
    "es.search(index=\"cpu_logs\", body={\"_source\": [\"user_name\"], \"query\": {\"range\": {\"start_time\": {\"gt\":\"2019-10-24T09:30:00.818Z\"}}}})\n"
   ]
  },
  {
   "cell_type": "code",
   "execution_count": null,
   "metadata": {
    "collapsed": true
   },
   "outputs": [],
   "source": [
    "sahil24c@gmail.com,2019-10-24 05:05:00,2019-10-24 05:50:00,2019-10-24"
   ]
  }
 ],
 "metadata": {
  "anaconda-cloud": {},
  "kernelspec": {
   "display_name": "Python [conda root]",
   "language": "python",
   "name": "conda-root-py"
  },
  "language_info": {
   "codemirror_mode": {
    "name": "ipython",
    "version": 3
   },
   "file_extension": ".py",
   "mimetype": "text/x-python",
   "name": "python",
   "nbconvert_exporter": "python",
   "pygments_lexer": "ipython3",
   "version": "3.5.2"
  }
 },
 "nbformat": 4,
 "nbformat_minor": 1
}
