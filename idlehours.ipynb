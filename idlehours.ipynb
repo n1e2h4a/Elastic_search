{
 "cells": [
  {
   "cell_type": "code",
   "execution_count": 7,
   "metadata": {
    "collapsed": false
   },
   "outputs": [
    {
     "name": "stdout",
     "output_type": "stream",
     "text": [
      "b'{\\n  \"name\" : \"elasticsearch\",\\n  \"cluster_name\" : \"elasticsearch\",\\n  \"cluster_uuid\" : \"5T_1AWCFSeOm0M2eKNyW2g\",\\n  \"version\" : {\\n    \"number\" : \"7.7.0\",\\n    \"build_flavor\" : \"default\",\\n    \"build_type\" : \"deb\",\\n    \"build_hash\" : \"81a1e9eda8e6183f5237786246f6dced26a10eaf\",\\n    \"build_date\" : \"2020-05-12T02:01:37.602180Z\",\\n    \"build_snapshot\" : false,\\n    \"lucene_version\" : \"8.5.1\",\\n    \"minimum_wire_compatibility_version\" : \"6.8.0\",\\n    \"minimum_index_compatibility_version\" : \"6.0.0-beta1\"\\n  },\\n  \"tagline\" : \"You Know, for Search\"\\n}\\n'\n"
     ]
    }
   ],
   "source": [
    "import requests\n",
    "res = requests.get('http://localhost:9200')\n",
    "print(res.content)"
   ]
  },
  {
   "cell_type": "code",
   "execution_count": 8,
   "metadata": {
    "collapsed": true
   },
   "outputs": [],
   "source": [
    "from elasticsearch import Elasticsearch\n",
    "es = Elasticsearch([{'host': 'localhost', 'port':9200}])"
   ]
  },
  {
   "cell_type": "code",
   "execution_count": 10,
   "metadata": {
    "collapsed": false
   },
   "outputs": [
    {
     "name": "stdout",
     "output_type": "stream",
     "text": [
      "{'aggregations': {'avg_hours': {'value': 1571882512500.0, 'value_as_string': '2019-10-24T02:01:52.500Z'}}, 'timed_out': False, 'took': 2, '_shards': {'total': 1, 'skipped': 0, 'successful': 1, 'failed': 0}, 'hits': {'total': {'value': 88, 'relation': 'eq'}, 'hits': [], 'max_score': None}}\n"
     ]
    }
   ],
   "source": [
    "res = es.search(index=\"cpu_logs\",\n",
    "                body={\"from\":0, \"size\": 0,\"query\": {\"match_all\": {}}, \"aggs\": {\"avg_hours\":{\"avg\":{\"field\": \"idle_time\"}}}})\n",
    "print(res)"
   ]
  },
  {
   "cell_type": "code",
   "execution_count": 12,
   "metadata": {
    "collapsed": false
   },
   "outputs": [
    {
     "data": {
      "text/plain": [
       "{'_shards': {'failed': 0, 'skipped': 0, 'successful': 1, 'total': 1},\n",
       " 'hits': {'hits': [{'_id': 'YcnRXHIB8lCf_sTWZ-QI',\n",
       "    '_index': 'cpu_logs',\n",
       "    '_score': 1.0,\n",
       "    '_source': {'user_name': 'sahil24c@gmail.com'},\n",
       "    '_type': 'data'},\n",
       "   {'_id': 'YsnRXHIB8lCf_sTWZ-QI',\n",
       "    '_index': 'cpu_logs',\n",
       "    '_score': 1.0,\n",
       "    '_source': {'user_name': 'magadum.iranna@gmail.com'},\n",
       "    '_type': 'data'},\n",
       "   {'_id': 'ZcnRXHIB8lCf_sTWZ-QI',\n",
       "    '_index': 'cpu_logs',\n",
       "    '_score': 1.0,\n",
       "    '_source': {'user_name': 'puruissimple@gmail.com'},\n",
       "    '_type': 'data'},\n",
       "   {'_id': 'aMnRXHIB8lCf_sTWZ-QI',\n",
       "    '_index': 'cpu_logs',\n",
       "    '_score': 1.0,\n",
       "    '_source': {'user_name': 'you@example.com'},\n",
       "    '_type': 'data'},\n",
       "   {'_id': 'asnRXHIB8lCf_sTWZ-QI',\n",
       "    '_index': 'cpu_logs',\n",
       "    '_score': 1.0,\n",
       "    '_source': {'user_name': 'vishnu23kumar@gmail.com'},\n",
       "    '_type': 'data'},\n",
       "   {'_id': 'cMnRXHIB8lCf_sTWZ-QI',\n",
       "    '_index': 'cpu_logs',\n",
       "    '_score': 1.0,\n",
       "    '_source': {'user_name': 'narsimharaj.kasu01@gmail.com'},\n",
       "    '_type': 'data'},\n",
       "   {'_id': 'dcnRXHIB8lCf_sTWZ-QI',\n",
       "    '_index': 'cpu_logs',\n",
       "    '_score': 1.0,\n",
       "    '_source': {'user_name': 'sargampandey27oct@gmail.com'},\n",
       "    '_type': 'data'},\n",
       "   {'_id': 'dsnRXHIB8lCf_sTWZ-QI',\n",
       "    '_index': 'cpu_logs',\n",
       "    '_score': 1.0,\n",
       "    '_source': {'user_name': 'ayush.saraf47@gmail.com'},\n",
       "    '_type': 'data'},\n",
       "   {'_id': 'd8nRXHIB8lCf_sTWZ-QI',\n",
       "    '_index': 'cpu_logs',\n",
       "    '_score': 1.0,\n",
       "    '_source': {'user_name': 'mr.kundare@gmail.com'},\n",
       "    '_type': 'data'},\n",
       "   {'_id': 'eMnRXHIB8lCf_sTWZ-QI',\n",
       "    '_index': 'cpu_logs',\n",
       "    '_score': 1.0,\n",
       "    '_source': {'user_name': 'surajpj7852@gmail.com'},\n",
       "    '_type': 'data'}],\n",
       "  'max_score': 1.0,\n",
       "  'total': {'relation': 'eq', 'value': 27}},\n",
       " 'timed_out': False,\n",
       " 'took': 6}"
      ]
     },
     "execution_count": 12,
     "metadata": {},
     "output_type": "execute_result"
    }
   ],
   "source": [
    "es.search(index=\"cpu_logs\", body={\"_source\": [\"user_name\"], \"query\": {\"range\": {\"idle_time\": {\"gt\":\"2019-10-24T02:01:52.500Z\"}}}})\n"
   ]
  },
  {
   "cell_type": "code",
   "execution_count": null,
   "metadata": {
    "collapsed": true
   },
   "outputs": [],
   "source": []
  }
 ],
 "metadata": {
  "anaconda-cloud": {},
  "kernelspec": {
   "display_name": "Python [conda root]",
   "language": "python",
   "name": "conda-root-py"
  },
  "language_info": {
   "codemirror_mode": {
    "name": "ipython",
    "version": 3
   },
   "file_extension": ".py",
   "mimetype": "text/x-python",
   "name": "python",
   "nbconvert_exporter": "python",
   "pygments_lexer": "ipython3",
   "version": "3.5.2"
  }
 },
 "nbformat": 4,
 "nbformat_minor": 1
}
